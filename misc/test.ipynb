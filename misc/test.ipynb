{
 "cells": [
  {
   "cell_type": "code",
   "execution_count": null,
   "metadata": {},
   "outputs": [],
   "source": [
    "lst = [20,-2898.1293319672222,2.0,0,0,1,0,0,0,0,0,1,0]\n",
    "cols = ['age','mean_time_user_course','no_courses_progress','number_completed','identity_Hombre','identity_Mujer','identity_Otros','hiv_relationship_Afectado','hiv_relationship_Amigo','hiv_relationship_Familiar','hiv_relationship_Interesado','hiv_relationship_Otros','hiv_relationship_Profesional']"
   ]
  }
 ],
 "metadata": {
  "language_info": {
   "name": "python"
  },
  "orig_nbformat": 4
 },
 "nbformat": 4,
 "nbformat_minor": 2
}
